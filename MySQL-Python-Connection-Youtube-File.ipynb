{
 "cells": [
  {
   "cell_type": "markdown",
   "metadata": {},
   "source": [
    "\n",
    "    *****************************************************\n",
    "    Programmer:    Adeyemi Adedoyin Simeon\n",
    "    Version:       1.0\n",
    "    Contact:       adeyemi.sa1@gmail.com, +2348064555381\n",
    "    Github:        https://github.com/SimeonDee\n",
    "    Location:      Offa, Kwara State, Nigeria\n",
    "    Date:          12th April, 2020 12:00pm\n",
    "    *****************************************************\n",
    "    \n",
    "# A Python Project to connect Python to MYSQL Database and carry out CRUD operations\n"
   ]
  },
  {
   "cell_type": "markdown",
   "metadata": {},
   "source": [
    "# NOTE:\n",
    "You can view and download this source codes from my github page.\n",
    "Follow the link \n",
    "### https://github.com/SimeonDee/python-mysql-doyin-connect-api'"
   ]
  },
  {
   "cell_type": "code",
   "execution_count": null,
   "metadata": {},
   "outputs": [],
   "source": [
    "# Importing Libraries"
   ]
  },
  {
   "cell_type": "code",
   "execution_count": 1,
   "metadata": {},
   "outputs": [],
   "source": [
    "import mysql.connector as mysql_api\n",
    "from mysql.connector import Error\n",
    "import pandas as pd"
   ]
  },
  {
   "cell_type": "markdown",
   "metadata": {},
   "source": [
    "# Connecting to mysql database"
   ]
  },
  {
   "cell_type": "markdown",
   "metadata": {},
   "source": [
    "For detailed list and explanation of all connection arguments <br />\n",
    "visit ...\n",
    "\n",
    "### https://pynative.com/python-mysql-database-connection/"
   ]
  },
  {
   "cell_type": "code",
   "execution_count": 2,
   "metadata": {},
   "outputs": [
    {
     "name": "stdout",
     "output_type": "stream",
     "text": [
      "Connection established to MySQL Database Server  5.5.5-10.1.38-MariaDB\n"
     ]
    }
   ],
   "source": [
    "conn_args = {'host':'localhost', 'database':'python_db', \n",
    "             'user':'root', 'password':'', \n",
    "             'autocommit':True, 'raise_on_warnings': True}\n",
    "\n",
    "try:\n",
    "    conn = mysql_api.connect(**conn_args)\n",
    "\n",
    "    if conn.is_connected():\n",
    "        db_info = conn.get_server_info()\n",
    "        print('Connection established to MySQL Database Server ', db_info)\n",
    "            \n",
    "except Error as e:\n",
    "    print('Error connecting to MySQL database: {}'.format(e))\n",
    "    "
   ]
  },
  {
   "cell_type": "markdown",
   "metadata": {},
   "source": [
    "# Running SQL statements"
   ]
  },
  {
   "cell_type": "code",
   "execution_count": 5,
   "metadata": {},
   "outputs": [],
   "source": [
    "# Intsantiating a cursor obj\n",
    "cursor = conn.cursor()"
   ]
  },
  {
   "cell_type": "markdown",
   "metadata": {},
   "source": [
    "## Example 1: DDL"
   ]
  },
  {
   "cell_type": "code",
   "execution_count": 6,
   "metadata": {},
   "outputs": [],
   "source": [
    "# Sql command DDL\n",
    "sql = \"\"\"CREATE TABLE IF NOT EXISTS Person(id int NOT NULL AUTO_INCREMENT,\n",
    "            Fullname VARCHAR(70) NOT NULL,\n",
    "            Gender VARCHAR(7),\n",
    "            PRIMARY KEY(id)); \"\"\"\n"
   ]
  },
  {
   "cell_type": "code",
   "execution_count": 7,
   "metadata": {},
   "outputs": [
    {
     "name": "stdout",
     "output_type": "stream",
     "text": [
      "Excuted Successfully.\n"
     ]
    }
   ],
   "source": [
    "# Executing the SQL statement\n",
    "try:\n",
    "    cursor.execute(sql)\n",
    "    #conn.commit()\n",
    "\n",
    "    print('Excuted Successfully.')\n",
    "\n",
    "except Error as e:\n",
    "    print('Error executing sql: {}'.format(e))\n"
   ]
  },
  {
   "cell_type": "markdown",
   "metadata": {},
   "source": [
    "## Example 2: DML"
   ]
  },
  {
   "cell_type": "markdown",
   "metadata": {},
   "source": [
    "## INSERT"
   ]
  },
  {
   "cell_type": "markdown",
   "metadata": {},
   "source": [
    "#### Inserting Single Record"
   ]
  },
  {
   "cell_type": "code",
   "execution_count": 8,
   "metadata": {},
   "outputs": [],
   "source": [
    "# Sql command DDL\n",
    "sql1 = \"\"\"INSERT IGNORE INTO Person(Fullname, Gender) VALUES('Adeyemi Adedoyin Simeon', 'Male'); \"\"\"\n",
    "\n",
    "sql2 = \"\"\"INSERT IGNORE INTO Person(Fullname, Gender) VALUES(%s, %s); \"\"\"\n",
    "name = 'Adebayo Mary'\n",
    "gender = 'Female'\n",
    "\n",
    "input_data2 = (name, gender)"
   ]
  },
  {
   "cell_type": "code",
   "execution_count": 9,
   "metadata": {},
   "outputs": [
    {
     "name": "stdout",
     "output_type": "stream",
     "text": [
      "Insert query executed successfully.\n"
     ]
    }
   ],
   "source": [
    "# Executing the SQL statement\n",
    "try:\n",
    "    cursor.execute(sql1)\n",
    "    cursor.execute(sql2, input_data2) # Using python variables or parameter values\n",
    "    #conn.commit()\n",
    "\n",
    "    print('Insert query executed successfully.')\n",
    "\n",
    "except Error as e:\n",
    "    print('Error executing sql: \\n\\t{}'.format(e))\n"
   ]
  },
  {
   "cell_type": "markdown",
   "metadata": {},
   "source": [
    "#### Inserting Multiple Records\n",
    "\n",
    "NOTE: cursor.executemany(sql, data)"
   ]
  },
  {
   "cell_type": "code",
   "execution_count": 10,
   "metadata": {},
   "outputs": [],
   "source": [
    "sql3 = \"\"\"INSERT IGNORE INTO Person(Fullname, Gender) VALUES(%s, %s); \"\"\"\n",
    "\n",
    "input_data3 = [('Samson Adeola', 'Male'), ('Badiru Mary', 'Female'), ('Adewale', 'Male')]\n"
   ]
  },
  {
   "cell_type": "code",
   "execution_count": 11,
   "metadata": {},
   "outputs": [
    {
     "name": "stdout",
     "output_type": "stream",
     "text": [
      "Insert query executed successfully.\n"
     ]
    }
   ],
   "source": [
    "# Executing the SQL statement\n",
    "try:\n",
    "    cursor.executemany(sql3, input_data3)\n",
    "    #conn.commit()\n",
    "\n",
    "    print('Insert query executed successfully.')\n",
    "\n",
    "except Error as e:\n",
    "    print('Error executing sql: \\n\\t{}'.format(e))\n"
   ]
  },
  {
   "cell_type": "code",
   "execution_count": null,
   "metadata": {},
   "outputs": [],
   "source": []
  },
  {
   "cell_type": "markdown",
   "metadata": {},
   "source": [
    "## UPDATE & DELETE\n",
    "(Same Technique)"
   ]
  },
  {
   "cell_type": "code",
   "execution_count": 13,
   "metadata": {},
   "outputs": [],
   "source": [
    "sql4 = \"\"\"UPDATE Person \n",
    "            SET Fullname = %s, Gender = %s \n",
    "            WHERE id = %s; \"\"\"\n",
    "\n",
    "input_data4 = ('Modified Modified', 'Male', 2)\n"
   ]
  },
  {
   "cell_type": "code",
   "execution_count": 14,
   "metadata": {},
   "outputs": [
    {
     "name": "stdout",
     "output_type": "stream",
     "text": [
      "Update query executed successfully.\n"
     ]
    }
   ],
   "source": [
    "# Executing the SQL statement\n",
    "try:\n",
    "    cursor.execute(sql4, input_data4)\n",
    "    #conn.commit()\n",
    "\n",
    "    print('Update query executed successfully.')\n",
    "\n",
    "except Error as e:\n",
    "    print('Error executing sql: \\n\\t{}'.format(e))\n"
   ]
  },
  {
   "cell_type": "code",
   "execution_count": null,
   "metadata": {},
   "outputs": [],
   "source": []
  },
  {
   "cell_type": "markdown",
   "metadata": {},
   "source": [
    "## SELECT"
   ]
  },
  {
   "cell_type": "code",
   "execution_count": 16,
   "metadata": {},
   "outputs": [],
   "source": [
    "sql5 = \"\"\"SELECT * FROM Person;\"\"\"\n"
   ]
  },
  {
   "cell_type": "code",
   "execution_count": 17,
   "metadata": {},
   "outputs": [
    {
     "name": "stdout",
     "output_type": "stream",
     "text": [
      "Select query executed successfully.\n"
     ]
    }
   ],
   "source": [
    "try:\n",
    "    cursor.execute(sql5) # Executing query\n",
    "    \n",
    "    # FETCHING RECORDS ...\n",
    "    \n",
    "    # cursor.fetchone() to fetch one record\n",
    "    # cursor.fetchmany(SIZE) to fetch SIZE records .i.e. limited fetch\n",
    "    \n",
    "    result = cursor.fetchall() # To fetch all records\n",
    "\n",
    "    print('Select query executed successfully.')\n",
    "\n",
    "except Error as e:\n",
    "    print('Error executing sql: \\n\\t{}'.format(e))\n"
   ]
  },
  {
   "cell_type": "code",
   "execution_count": null,
   "metadata": {},
   "outputs": [],
   "source": []
  },
  {
   "cell_type": "code",
   "execution_count": 18,
   "metadata": {},
   "outputs": [
    {
     "name": "stdout",
     "output_type": "stream",
     "text": [
      "(1, 'Adeyemi Adedoyin Simeon', 'Male')\n",
      "(2, 'Modified Modified', 'Male')\n",
      "(3, 'Samson Adeola', 'Male')\n",
      "(4, 'Badiru Mary', 'Female')\n",
      "(5, 'Adewale', 'Male')\n"
     ]
    }
   ],
   "source": [
    "# Printing the fetched records\n",
    "if result != None:\n",
    "    for record in result:\n",
    "        print(record)"
   ]
  },
  {
   "cell_type": "markdown",
   "metadata": {},
   "source": [
    "### Converting returned results into dataframe"
   ]
  },
  {
   "cell_type": "code",
   "execution_count": 20,
   "metadata": {},
   "outputs": [
    {
     "data": {
      "text/html": [
       "<div>\n",
       "<style scoped>\n",
       "    .dataframe tbody tr th:only-of-type {\n",
       "        vertical-align: middle;\n",
       "    }\n",
       "\n",
       "    .dataframe tbody tr th {\n",
       "        vertical-align: top;\n",
       "    }\n",
       "\n",
       "    .dataframe thead th {\n",
       "        text-align: right;\n",
       "    }\n",
       "</style>\n",
       "<table border=\"1\" class=\"dataframe\">\n",
       "  <thead>\n",
       "    <tr style=\"text-align: right;\">\n",
       "      <th></th>\n",
       "      <th>SNo</th>\n",
       "      <th>Fullname</th>\n",
       "      <th>Gender</th>\n",
       "    </tr>\n",
       "  </thead>\n",
       "  <tbody>\n",
       "    <tr>\n",
       "      <th>0</th>\n",
       "      <td>1</td>\n",
       "      <td>Adeyemi Adedoyin Simeon</td>\n",
       "      <td>Male</td>\n",
       "    </tr>\n",
       "    <tr>\n",
       "      <th>1</th>\n",
       "      <td>2</td>\n",
       "      <td>Modified Modified</td>\n",
       "      <td>Male</td>\n",
       "    </tr>\n",
       "    <tr>\n",
       "      <th>2</th>\n",
       "      <td>3</td>\n",
       "      <td>Samson Adeola</td>\n",
       "      <td>Male</td>\n",
       "    </tr>\n",
       "    <tr>\n",
       "      <th>3</th>\n",
       "      <td>4</td>\n",
       "      <td>Badiru Mary</td>\n",
       "      <td>Female</td>\n",
       "    </tr>\n",
       "    <tr>\n",
       "      <th>4</th>\n",
       "      <td>5</td>\n",
       "      <td>Adewale</td>\n",
       "      <td>Male</td>\n",
       "    </tr>\n",
       "  </tbody>\n",
       "</table>\n",
       "</div>"
      ],
      "text/plain": [
       "   SNo                 Fullname  Gender\n",
       "0    1  Adeyemi Adedoyin Simeon    Male\n",
       "1    2        Modified Modified    Male\n",
       "2    3            Samson Adeola    Male\n",
       "3    4              Badiru Mary  Female\n",
       "4    5                  Adewale    Male"
      ]
     },
     "execution_count": 20,
     "metadata": {},
     "output_type": "execute_result"
    }
   ],
   "source": [
    "# Converting result into dataframe\n",
    "data = {'SNo':[record[0] for record in result], \n",
    "        'Fullname':[record[1] for record in result], \n",
    "        'Gender':[record[2] for record in result]}\n",
    "\n",
    "df = pd.DataFrame(data=data)\n",
    "df"
   ]
  },
  {
   "cell_type": "code",
   "execution_count": null,
   "metadata": {},
   "outputs": [],
   "source": []
  },
  {
   "cell_type": "markdown",
   "metadata": {},
   "source": [
    "# Disconnecting from mysql database"
   ]
  },
  {
   "cell_type": "code",
   "execution_count": 21,
   "metadata": {},
   "outputs": [
    {
     "name": "stdout",
     "output_type": "stream",
     "text": [
      "Disconnection from MySQL Database Server 5.5.5-10.1.38-MariaDB successful.\n"
     ]
    }
   ],
   "source": [
    "try:\n",
    "    \n",
    "    if conn.is_connected():\n",
    "        cursor.close\n",
    "        conn.close\n",
    "        print('Disconnection from MySQL Database Server {} successful.'.format(db_info))\n",
    "    \n",
    "    else:\n",
    "        print('Connection already closed.')\n",
    "        \n",
    "except Error as e:\n",
    "    print('Error executing sql: \\n\\t{}'.format(e))\n"
   ]
  },
  {
   "cell_type": "code",
   "execution_count": null,
   "metadata": {},
   "outputs": [],
   "source": []
  }
 ],
 "metadata": {
  "kernelspec": {
   "display_name": "Python 3",
   "language": "python",
   "name": "python3"
  },
  "language_info": {
   "codemirror_mode": {
    "name": "ipython",
    "version": 3
   },
   "file_extension": ".py",
   "mimetype": "text/x-python",
   "name": "python",
   "nbconvert_exporter": "python",
   "pygments_lexer": "ipython3",
   "version": "3.6.5"
  }
 },
 "nbformat": 4,
 "nbformat_minor": 2
}
