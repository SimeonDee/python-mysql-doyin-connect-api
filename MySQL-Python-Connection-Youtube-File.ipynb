{
 "cells": [
  {
   "cell_type": "markdown",
   "metadata": {},
   "source": [
    "\n",
    "    *****************************************************\n",
    "    Programmer:    Adeyemi Adedoyin Simeon\n",
    "    Version:       1.0\n",
    "    Contact:       adeyemi.sa1@gmail.com, +2348064555381\n",
    "    Github:        https://github.com/SimeonDee\n",
    "    Location:      Offa, Kwara State, Nigeria\n",
    "    Date:          12th April, 2020 12:00pm\n",
    "    *****************************************************\n",
    "    \n",
    "# A Python Project to connect Python to MYSQL Database and carry out CRUD operations\n"
   ]
  },
  {
   "cell_type": "markdown",
   "metadata": {},
   "source": [
    "# NOTE:\n",
    "You can view and download this source codes from my github page.\n",
    "Follow the link \n",
    "### https://github.com/SimeonDee/python-mysql-doyin-connect-api'"
   ]
  },
  {
   "cell_type": "code",
   "execution_count": 4,
   "metadata": {},
   "outputs": [],
   "source": [
    "# Importing Libraries"
   ]
  },
  {
   "cell_type": "code",
   "execution_count": 73,
   "metadata": {},
   "outputs": [],
   "source": [
    "import mysql.connector as mysql_api\n",
    "from mysql.connector import Error\n",
    "import pandas as pd"
   ]
  },
  {
   "cell_type": "markdown",
   "metadata": {},
   "source": [
    "# Connecting to mysql database"
   ]
  },
  {
   "cell_type": "markdown",
   "metadata": {},
   "source": [
    "For detailed list and explanation of all connection arguments <br />\n",
    "visit ...\n",
    "\n",
    "### https://pynative.com/python-mysql-database-connection/"
   ]
  },
  {
   "cell_type": "code",
   "execution_count": null,
   "metadata": {},
   "outputs": [],
   "source": [
    "conn_args = {'host':'localhost', 'database':'python_db', \n",
    "             'user':'root', 'password':'', \n",
    "             'autocommit':True, 'raise_on_warnings': True}\n",
    "\n",
    "try:\n",
    "    conn = mysql_api.connect(**conn_args)\n",
    "\n",
    "    if conn.is_connected():\n",
    "        db_info = conn.get_server_info()\n",
    "        print('Connection established to MySQL Database Server ', db_info)\n",
    "            \n",
    "except Error as e:\n",
    "    print('Error connecting to MySQL database: {}'.format(e))\n",
    "    "
   ]
  },
  {
   "cell_type": "markdown",
   "metadata": {},
   "source": [
    "# Running SQL statements"
   ]
  },
  {
   "cell_type": "code",
   "execution_count": 52,
   "metadata": {},
   "outputs": [],
   "source": [
    "# Intsantiating a cursor obj\n",
    "cursor = conn.cursor()"
   ]
  },
  {
   "cell_type": "markdown",
   "metadata": {},
   "source": [
    "## Example 1: DDL"
   ]
  },
  {
   "cell_type": "code",
   "execution_count": null,
   "metadata": {},
   "outputs": [],
   "source": [
    "# Sql command DDL\n",
    "sql = \"\"\"CREATE TABLE IF NOT EXISTS Person(id int NOT NULL AUTO_INCREMENT,\n",
    "            Fullname VARCHAR(70) NOT NULL,\n",
    "            Gender VARCHAR(7),\n",
    "            PRIMARY KEY(id)); \"\"\"\n"
   ]
  },
  {
   "cell_type": "code",
   "execution_count": null,
   "metadata": {},
   "outputs": [],
   "source": [
    "# Executing the SQL statement\n",
    "try:\n",
    "    cursor.execute(sql)\n",
    "    #conn.commit()\n",
    "\n",
    "    print('Excuted Successfully.')\n",
    "\n",
    "except Error as e:\n",
    "    print('Error executing sql: {}'.format(e))\n"
   ]
  },
  {
   "cell_type": "markdown",
   "metadata": {},
   "source": [
    "## Example 2: DML"
   ]
  },
  {
   "cell_type": "markdown",
   "metadata": {},
   "source": [
    "## INSERT"
   ]
  },
  {
   "cell_type": "markdown",
   "metadata": {},
   "source": [
    "#### Inserting Single Record"
   ]
  },
  {
   "cell_type": "code",
   "execution_count": null,
   "metadata": {},
   "outputs": [],
   "source": [
    "# Sql command DDL\n",
    "sql1 = \"\"\"INSERT IGNORE INTO Person(Fullname, Gender) VALUES('Adeyemi Adedoyin Simeon', 'Male'); \"\"\"\n",
    "\n",
    "sql2 = \"\"\"INSERT IGNORE INTO Person(Fullname, Gender) VALUES(%s, %s); \"\"\"\n",
    "input_data2 = ('Adebayo Mary', 'Female')"
   ]
  },
  {
   "cell_type": "code",
   "execution_count": null,
   "metadata": {},
   "outputs": [],
   "source": [
    "# Executing the SQL statement\n",
    "try:\n",
    "    cursor.execute(sql1)\n",
    "    cursor.execute(sql2, input_data2) # Using python variables or parameter values\n",
    "    #conn.commit()\n",
    "\n",
    "    print('Insert query executed successfully.')\n",
    "\n",
    "except Error as e:\n",
    "    print('Error executing sql: \\n\\t{}'.format(e))\n"
   ]
  },
  {
   "cell_type": "markdown",
   "metadata": {},
   "source": [
    "#### Inserting Multiple Records\n",
    "\n",
    "NOTE: cursor.executemany(sql, data)"
   ]
  },
  {
   "cell_type": "code",
   "execution_count": null,
   "metadata": {},
   "outputs": [],
   "source": [
    "sql3 = \"\"\"INSERT IGNORE INTO Person(Fullname, Gender) VALUES(%s, %s); \"\"\"\n",
    "input_data3 = [('Samson Adeola', 'Male'), ('Badiru Mary', 'Female'), ('Adewale', 'Male')]\n"
   ]
  },
  {
   "cell_type": "code",
   "execution_count": null,
   "metadata": {},
   "outputs": [],
   "source": [
    "# Executing the SQL statement\n",
    "try:\n",
    "    cursor.executemany(sql3, input_data3)\n",
    "    #conn.commit()\n",
    "\n",
    "    print('Insert query executed successfully.')\n",
    "\n",
    "except Error as e:\n",
    "    print('Error executing sql: \\n\\t{}'.format(e))\n"
   ]
  },
  {
   "cell_type": "code",
   "execution_count": null,
   "metadata": {},
   "outputs": [],
   "source": []
  },
  {
   "cell_type": "markdown",
   "metadata": {},
   "source": [
    "## UPDATE & DELETE\n",
    "(Same Technique)"
   ]
  },
  {
   "cell_type": "code",
   "execution_count": null,
   "metadata": {},
   "outputs": [],
   "source": [
    "sql4 = \"\"\"UPDATE Person \n",
    "            SET Fullname = %s, Gender = %s \n",
    "            WHERE id = %i; \"\"\"\n",
    "\n",
    "input_data4 = ('Modified Modified', 'Female', 2)\n"
   ]
  },
  {
   "cell_type": "code",
   "execution_count": null,
   "metadata": {},
   "outputs": [],
   "source": [
    "# Executing the SQL statement\n",
    "try:\n",
    "    cursor.execute(sql4, input_data4)\n",
    "    #conn.commit()\n",
    "\n",
    "    print('Update query executed successfully.')\n",
    "\n",
    "except Error as e:\n",
    "    print('Error executing sql: \\n\\t{}'.format(e))\n"
   ]
  },
  {
   "cell_type": "code",
   "execution_count": null,
   "metadata": {},
   "outputs": [],
   "source": []
  },
  {
   "cell_type": "markdown",
   "metadata": {},
   "source": [
    "## SELECT"
   ]
  },
  {
   "cell_type": "code",
   "execution_count": null,
   "metadata": {},
   "outputs": [],
   "source": [
    "sql3 = \"\"\"INSERT IGNORE INTO Person(Fullname, Gender) VALUES(%s, %s); \"\"\"\n",
    "input_data3 = [('Samson Adeola', 'Male'), ('Badiru Mary', 'Female'), ('Adewale', 'Male')]\n"
   ]
  },
  {
   "cell_type": "code",
   "execution_count": null,
   "metadata": {},
   "outputs": [],
   "source": [
    "try:\n",
    "    cursor.execute(sql3, input_data3) # Executing query\n",
    "    \n",
    "    # FETCHING RECORDS ...\n",
    "    \n",
    "    # cursor.fetchone() to fetch one record\n",
    "    # cursor.fetchmany(SIZE) to fetch SIZE records .i.e. limited fetch\n",
    "    \n",
    "    result = cursor.fetchall() # To fetch all records\n",
    "\n",
    "    print('Select query executed successfully.')\n",
    "\n",
    "except Error as e:\n",
    "    print('Error executing sql: \\n\\t{}'.format(e))\n"
   ]
  },
  {
   "cell_type": "code",
   "execution_count": null,
   "metadata": {},
   "outputs": [],
   "source": []
  },
  {
   "cell_type": "code",
   "execution_count": null,
   "metadata": {},
   "outputs": [],
   "source": [
    "# Printing the fetched records\n",
    "if result != None:\n",
    "    for row in result:\n",
    "        print(row)"
   ]
  },
  {
   "cell_type": "markdown",
   "metadata": {},
   "source": [
    "### Converting returned results into dataframe"
   ]
  },
  {
   "cell_type": "code",
   "execution_count": null,
   "metadata": {},
   "outputs": [],
   "source": [
    "# Converting result into dataframe\n",
    "data = {'SNo':[x[0] for x in result], 'Fullname':[x[1] for x in result], 'Gender':[x[2] for x in result]}\n",
    "df = pd.DataFrame(data=data)\n",
    "df"
   ]
  },
  {
   "cell_type": "code",
   "execution_count": null,
   "metadata": {},
   "outputs": [],
   "source": []
  },
  {
   "cell_type": "markdown",
   "metadata": {},
   "source": [
    "# Disconnecting from mysql database"
   ]
  },
  {
   "cell_type": "code",
   "execution_count": null,
   "metadata": {},
   "outputs": [],
   "source": [
    "try:\n",
    "    \n",
    "    if conn.is_connected():\n",
    "        cursor.close\n",
    "        conn.close\n",
    "        print('Disconnection from MySQL Database Server {} successful.'.format(db_info))\n",
    "    \n",
    "    else:\n",
    "        print('Connection already closed.')\n",
    "        \n",
    "except Error as e:\n",
    "    print('Error executing sql: \\n\\t{}'.format(e))\n"
   ]
  },
  {
   "cell_type": "code",
   "execution_count": null,
   "metadata": {},
   "outputs": [],
   "source": []
  }
 ],
 "metadata": {
  "kernelspec": {
   "display_name": "Python 3",
   "language": "python",
   "name": "python3"
  },
  "language_info": {
   "codemirror_mode": {
    "name": "ipython",
    "version": 3
   },
   "file_extension": ".py",
   "mimetype": "text/x-python",
   "name": "python",
   "nbconvert_exporter": "python",
   "pygments_lexer": "ipython3",
   "version": "3.6.5"
  }
 },
 "nbformat": 4,
 "nbformat_minor": 2
}
